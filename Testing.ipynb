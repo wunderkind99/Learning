{
 "cells": [
  {
   "cell_type": "code",
   "execution_count": 22,
   "metadata": {},
   "outputs": [
    {
     "name": "stdin",
     "output_type": "stream",
     "text": [
      "What is your answer? no\n"
     ]
    },
    {
     "name": "stdout",
     "output_type": "stream",
     "text": [
      "Wrong Path Mate\n"
     ]
    },
    {
     "name": "stdin",
     "output_type": "stream",
     "text": [
      "What is your answer? no\n"
     ]
    },
    {
     "name": "stdout",
     "output_type": "stream",
     "text": [
      "Wrong Path Mate\n"
     ]
    },
    {
     "name": "stdin",
     "output_type": "stream",
     "text": [
      "Do you want to try again? YES\n",
      "What is your answer? Yes\n"
     ]
    },
    {
     "name": "stdout",
     "output_type": "stream",
     "text": [
      "You have chosen wisely\n"
     ]
    },
    {
     "name": "stdin",
     "output_type": "stream",
     "text": [
      "What is your answer? Yes\n"
     ]
    },
    {
     "name": "stdout",
     "output_type": "stream",
     "text": [
      "Wrong Path Mate\n"
     ]
    },
    {
     "name": "stdin",
     "output_type": "stream",
     "text": [
      "Do you want to try again? YES\n",
      "What is your answer? yes\n"
     ]
    },
    {
     "name": "stdout",
     "output_type": "stream",
     "text": [
      "You have chosen wisely\n"
     ]
    },
    {
     "name": "stdin",
     "output_type": "stream",
     "text": [
      "What is your answer? Good Ending\n"
     ]
    },
    {
     "name": "stdout",
     "output_type": "stream",
     "text": [
      "doot\n"
     ]
    }
   ],
   "source": [
    "secret_ending_check1=\"\"\n",
    "def choose_your_path():\n",
    "    global secret_ending_check1\n",
    "    word=input(\"What is your answer?\")\n",
    "    if word==\"Yes\" or word==\"yes\":\n",
    "        print(\"You have chosen wisely\")\n",
    "    elif word==\"No\" or word==\"no\":\n",
    "        print(\"Wrong Path Mate\")\n",
    "    else:\n",
    "        print(\"What are you saying?\")\n",
    "        secret_ending_check1=\"Almost\"\n",
    "        \n",
    "def choose_your_path2():\n",
    "    global secret_ending_check1\n",
    "    word=input(\"What is your answer?\")\n",
    "    if word==\"Good Ending\":\n",
    "        print(\"doot\")\n",
    "    elif word==\"Super Secret Ending\":\n",
    "        secret_ending_check1+=\" there\"\n",
    "        check_for_secret()\n",
    "    else:\n",
    "        print(\"Wrong Path Mate\")\n",
    "        try_again=input(\"Do you want to try again?\")\n",
    "        if try_again==\"Yes\" or try_again==\"yes\" or try_again==\"YES\":\n",
    "            choose_your_path()\n",
    "            choose_your_path2()\n",
    "def check_for_secret():\n",
    "    if secret_ending_check1==\"Almost there\":\n",
    "        print(\"Congrats on descovering the secret\")\n",
    "\n",
    "choose_your_path()\n",
    "choose_your_path2()\n"
   ]
  },
  {
   "cell_type": "code",
   "execution_count": 3,
   "metadata": {},
   "outputs": [
    {
     "name": "stdout",
     "output_type": "stream",
     "text": [
      "Critical Success \n",
      "Epic Gamer Time!\n"
     ]
    }
   ],
   "source": [
    "import random\n",
    "enemy_health=random.randint(20,30)\n",
    "player_health=15\n",
    "game_completed=False\n",
    "def Game():\n",
    "    global game_completed\n",
    "    global player_health\n",
    "    while player_health>=1:\n",
    "        player_combat()\n",
    "        if enemy_health>0:\n",
    "            enemy_combat()\n",
    "        check_win_or_loss()\n",
    "        if game_completed==True:\n",
    "            break\n",
    "\n",
    "def check_win_or_loss():\n",
    "    global game_completed\n",
    "    global enemy_health\n",
    "    global player_health\n",
    "    if player_health<=0:\n",
    "        print(\"You've been cuckholded by a stronger, smarter male.\") \n",
    "        game_completed=True\n",
    "    if enemy_health<=0:\n",
    "        print(\"Epic Gamer Time!\")\n",
    "        game_completed=True\n",
    "\n",
    "def player_combat():\n",
    "    global enemy_health\n",
    "    x=random.randint(1,20)\n",
    "    if x<=5:\n",
    "        print(\"Critical Failure\")\n",
    "        enemy_health=(enemy_health)-(0.5*x)\n",
    "    elif x<=10:\n",
    "        enemy_health=enemy_health-x\n",
    "        print(\"Failure\")\n",
    "    elif x<=15:\n",
    "        enemy_health=enemy_health-x\n",
    "        print(\"Success\")\n",
    "    elif x<=20:\n",
    "        enemy_health=(enemy_health)-2*x\n",
    "        print(\"Critical Success \")\n",
    "def enemy_combat():\n",
    "    global player_health\n",
    "    x=random.randint(6,13)\n",
    "    player_health-=x\n",
    "Game()"
   ]
  },
  {
   "cell_type": "code",
   "execution_count": null,
   "metadata": {},
   "outputs": [],
   "source": []
  }
 ],
 "metadata": {
  "kernelspec": {
   "display_name": "Python 3",
   "language": "python",
   "name": "python3"
  },
  "language_info": {
   "codemirror_mode": {
    "name": "ipython",
    "version": 3
   },
   "file_extension": ".py",
   "mimetype": "text/x-python",
   "name": "python",
   "nbconvert_exporter": "python",
   "pygments_lexer": "ipython3",
   "version": "3.8.3"
  }
 },
 "nbformat": 4,
 "nbformat_minor": 4
}
